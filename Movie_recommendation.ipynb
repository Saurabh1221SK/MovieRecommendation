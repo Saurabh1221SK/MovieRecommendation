{
 "cells": [
  {
   "cell_type": "code",
   "execution_count": 1,
   "id": "e0784e00",
   "metadata": {},
   "outputs": [],
   "source": [
    "# Importing necessary libraries\n",
    "import numpy as np \n",
    "import pandas as pd\n",
    "import ast  \n",
    "from sklearn.feature_extraction.text import CountVectorizer\n",
    "from sklearn.metrics.pairwise import cosine_similarity\n",
    "import nltk\n",
    "from nltk.stem import PorterStemmer\n",
    "import pickle\n",
    "import os\n",
    "import lzma"
   ]
  },
  {
   "cell_type": "code",
   "execution_count": 2,
   "id": "23e6dc5f",
   "metadata": {},
   "outputs": [],
   "source": [
    "# Loading the datasets\n",
    "movies = pd.read_csv('data/tmdb_5000_movies.csv')\n",
    "credits = pd.read_csv('data/tmdb_5000_credits.csv')\n"
   ]
  },
  {
   "cell_type": "code",
   "execution_count": 3,
   "id": "2c0b6211",
   "metadata": {},
   "outputs": [],
   "source": [
    "# Merging datasets on the title column\n",
    "movies = movies.merge(credits, on='title')"
   ]
  },
  {
   "cell_type": "code",
   "execution_count": 4,
   "id": "537c6760",
   "metadata": {},
   "outputs": [],
   "source": [
    "#Trimming to make dataset shareable\n",
    "movies = movies.head(4500)"
   ]
  },
  {
   "cell_type": "code",
   "execution_count": 5,
   "id": "0f8e62bb",
   "metadata": {},
   "outputs": [],
   "source": [
    "# Keeping only the important columns for recommendation\n",
    "movies = movies[['movie_id', 'title', 'overview', 'genres', 'keywords', 'cast', 'crew']]"
   ]
  },
  {
   "cell_type": "code",
   "execution_count": 6,
   "id": "9d6a2d9e",
   "metadata": {},
   "outputs": [],
   "source": [
    "# Droping rows with missing values\n",
    "movies.dropna(inplace=True)"
   ]
  },
  {
   "cell_type": "code",
   "execution_count": 7,
   "id": "0395e32c",
   "metadata": {},
   "outputs": [],
   "source": [
    "# Function to convert for genres and keywords\n",
    "def convert(text):\n",
    "    L = []\n",
    "    for i in ast.literal_eval(text):\n",
    "        L.append(i['name']) \n",
    "    return L\n"
   ]
  },
  {
   "cell_type": "code",
   "execution_count": 8,
   "id": "e2e9d15e",
   "metadata": {},
   "outputs": [],
   "source": [
    "# Applying conversion to genres and keywords columns\n",
    "movies['genres'] = movies['genres'].apply(convert)\n",
    "movies['keywords'] = movies['keywords'].apply(convert)"
   ]
  },
  {
   "cell_type": "code",
   "execution_count": 9,
   "id": "29b409e0",
   "metadata": {},
   "outputs": [],
   "source": [
    "# Function to get top 3 cast members\n",
    "def convert_cast(text):\n",
    "    L = []\n",
    "    counter = 0\n",
    "    for i in ast.literal_eval(text):\n",
    "        if counter < 3:\n",
    "            L.append(i['name'])\n",
    "        counter += 1\n",
    "    return L"
   ]
  },
  {
   "cell_type": "code",
   "execution_count": 10,
   "id": "33dcd938",
   "metadata": {},
   "outputs": [],
   "source": [
    "# Applying the function to the cast column\n",
    "movies['cast'] = movies['cast'].apply(convert_cast)"
   ]
  },
  {
   "cell_type": "code",
   "execution_count": 11,
   "id": "242bae57",
   "metadata": {},
   "outputs": [],
   "source": [
    "# Function to get the director from crew\n",
    "def fetch_director(text):\n",
    "    L = []\n",
    "    for i in ast.literal_eval(text):\n",
    "        if i['job'] == 'Director':\n",
    "            L.append(i['name'])\n",
    "            break\n",
    "    return L"
   ]
  },
  {
   "cell_type": "code",
   "execution_count": 12,
   "id": "d3947640",
   "metadata": {},
   "outputs": [],
   "source": [
    "# Applying the function to the crew column\n",
    "movies['crew'] = movies['crew'].apply(fetch_director)"
   ]
  },
  {
   "cell_type": "code",
   "execution_count": 13,
   "id": "a07a1f76",
   "metadata": {},
   "outputs": [],
   "source": [
    "# Converting overview to list for consistency\n",
    "movies['overview'] = movies['overview'].apply(lambda x: x.split())"
   ]
  },
  {
   "cell_type": "code",
   "execution_count": 14,
   "id": "4c51648c",
   "metadata": {},
   "outputs": [],
   "source": [
    "# Function to remove spaces in names\n",
    "def remove_space(L):\n",
    "    return [i.replace(\" \", \"\") for i in L]"
   ]
  },
  {
   "cell_type": "code",
   "execution_count": 15,
   "id": "1412b4ce",
   "metadata": {},
   "outputs": [],
   "source": [
    "# Applying the function to remove spaces in relevant columns\n",
    "movies['cast'] = movies['cast'].apply(remove_space)\n",
    "movies['crew'] = movies['crew'].apply(remove_space)\n",
    "movies['genres'] = movies['genres'].apply(remove_space)\n",
    "movies['keywords'] = movies['keywords'].apply(remove_space)"
   ]
  },
  {
   "cell_type": "code",
   "execution_count": 16,
   "id": "0dc077e3",
   "metadata": {},
   "outputs": [],
   "source": [
    "# Creating a single 'tags' column by combining all\n",
    "movies['tags'] = movies['overview'] + movies['genres'] + movies['keywords'] + movies['cast'] + movies['crew']\n",
    "movies['tags'] = movies['tags'].apply(lambda x: \" \".join(x)).apply(lambda x: x.lower())"
   ]
  },
  {
   "cell_type": "code",
   "execution_count": 17,
   "id": "8adf9bbf",
   "metadata": {},
   "outputs": [],
   "source": [
    "# Initializing a PorterStemmer\n",
    "ps = PorterStemmer()"
   ]
  },
  {
   "cell_type": "code",
   "execution_count": 18,
   "id": "100e2283",
   "metadata": {},
   "outputs": [],
   "source": [
    "# Function to apply stemming to each word in the tags\n",
    "def stems(text):\n",
    "    return \" \".join([ps.stem(i) for i in text.split()])"
   ]
  },
  {
   "cell_type": "code",
   "execution_count": 19,
   "id": "c6ec37bf",
   "metadata": {},
   "outputs": [],
   "source": [
    "# Applying stemming to the tags column\n",
    "movies['tags'] = movies['tags'].apply(stems)"
   ]
  },
  {
   "cell_type": "code",
   "execution_count": 20,
   "id": "ee2dc7cc",
   "metadata": {},
   "outputs": [],
   "source": [
    "# Final dataset with important columns\n",
    "new_df = movies[['movie_id', 'title', 'tags']]"
   ]
  },
  {
   "cell_type": "code",
   "execution_count": 21,
   "id": "ff0c73da",
   "metadata": {},
   "outputs": [],
   "source": [
    "# Converting text to vector form using CountVectorizer\n",
    "cv = CountVectorizer(max_features=5000, stop_words='english')\n",
    "vector = cv.fit_transform(new_df['tags']).toarray()"
   ]
  },
  {
   "cell_type": "code",
   "execution_count": 22,
   "id": "5e83cc83",
   "metadata": {},
   "outputs": [],
   "source": [
    "# Computing cosine similarity based on the vectorized tags\n",
    "similarity = cosine_similarity(vector)"
   ]
  },
  {
   "cell_type": "code",
   "execution_count": 23,
   "id": "e42ae2d4",
   "metadata": {},
   "outputs": [],
   "source": [
    "# Recommendation function based on cosine similarity\n",
    "def recommend(movie):\n",
    "    index = new_df[new_df['title'] == movie].index[0]\n",
    "    distances = sorted(list(enumerate(similarity[index])), reverse=True, key=lambda x: x[1])\n",
    "    for i in distances[1:6]:  \n",
    "        print(new_df.iloc[i[0]].title)"
   ]
  },
  {
   "cell_type": "code",
   "execution_count": 24,
   "id": "f035d7cb",
   "metadata": {},
   "outputs": [
    {
     "name": "stdout",
     "output_type": "stream",
     "text": [
      "Iron Man 3\n",
      "Iron Man 2\n",
      "Avengers: Age of Ultron\n",
      "The Avengers\n",
      "Captain America: Civil War\n"
     ]
    }
   ],
   "source": [
    "# Example\n",
    "recommend('Iron Man')"
   ]
  },
  {
   "cell_type": "code",
   "execution_count": 25,
   "id": "5b532ace",
   "metadata": {},
   "outputs": [],
   "source": [
    "# Saving the necessary objects to pickle files for future use\n",
    "pickle.dump(new_df, open('movie_list.pkl', 'wb'))\n",
    "pickle.dump(similarity, open('similarity.pkl', 'wb'))"
   ]
  },
  {
   "cell_type": "code",
   "execution_count": 26,
   "id": "c940f631",
   "metadata": {},
   "outputs": [],
   "source": [
    "# compressing for shareable file\n",
    "with lzma.open('movie_list.pkl.xz', 'wb') as f:\n",
    "    pickle.dump(movies, f)\n",
    "\n",
    "with lzma.open('similarity.pkl.xz', 'wb') as f:\n",
    "    pickle.dump(similarity, f)"
   ]
  },
  {
   "cell_type": "code",
   "execution_count": 27,
   "id": "e94e748a",
   "metadata": {},
   "outputs": [],
   "source": [
    "# Deleting the .pkl files\n",
    "if os.path.exists('movie_list.pkl'):\n",
    "    os.remove('movie_list.pkl')\n",
    "\n",
    "if os.path.exists('similarity.pkl'):\n",
    "    os.remove('similarity.pkl')"
   ]
  },
  {
   "cell_type": "code",
   "execution_count": null,
   "id": "c9ae78ff",
   "metadata": {},
   "outputs": [],
   "source": []
  }
 ],
 "metadata": {
  "kernelspec": {
   "display_name": "Python 3 (ipykernel)",
   "language": "python",
   "name": "python3"
  },
  "language_info": {
   "codemirror_mode": {
    "name": "ipython",
    "version": 3
   },
   "file_extension": ".py",
   "mimetype": "text/x-python",
   "name": "python",
   "nbconvert_exporter": "python",
   "pygments_lexer": "ipython3",
   "version": "3.11.4"
  }
 },
 "nbformat": 4,
 "nbformat_minor": 5
}
